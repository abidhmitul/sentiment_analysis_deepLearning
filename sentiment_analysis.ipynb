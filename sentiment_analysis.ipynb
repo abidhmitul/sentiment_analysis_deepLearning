{
 "cells": [
  {
   "cell_type": "markdown",
   "id": "e48df092",
   "metadata": {},
   "source": [
    "## Import Basic Libraries"
   ]
  },
  {
   "cell_type": "code",
   "execution_count": 2,
   "id": "4c0e801f",
   "metadata": {},
   "outputs": [],
   "source": [
    "import re # regex\n",
    "import pandas as pd # tables\n",
    "import matplotlib.pyplot as plt # plots\n",
    "import seaborn as sns # plots\n",
    "import numpy as np # operations with arrays and matrices "
   ]
  },
  {
   "cell_type": "markdown",
   "id": "81319a40",
   "metadata": {},
   "source": [
    "## Load Data"
   ]
  },
  {
   "cell_type": "code",
   "execution_count": 3,
   "id": "71c2071a",
   "metadata": {},
   "outputs": [
    {
     "data": {
      "text/html": [
       "<div>\n",
       "<style scoped>\n",
       "    .dataframe tbody tr th:only-of-type {\n",
       "        vertical-align: middle;\n",
       "    }\n",
       "\n",
       "    .dataframe tbody tr th {\n",
       "        vertical-align: top;\n",
       "    }\n",
       "\n",
       "    .dataframe thead th {\n",
       "        text-align: right;\n",
       "    }\n",
       "</style>\n",
       "<table border=\"1\" class=\"dataframe\">\n",
       "  <thead>\n",
       "    <tr style=\"text-align: right;\">\n",
       "      <th></th>\n",
       "      <th>Lines</th>\n",
       "      <th>Emotions</th>\n",
       "    </tr>\n",
       "  </thead>\n",
       "  <tbody>\n",
       "    <tr>\n",
       "      <th>0</th>\n",
       "      <td>i didnt feel humiliated</td>\n",
       "      <td>sadness</td>\n",
       "    </tr>\n",
       "    <tr>\n",
       "      <th>1</th>\n",
       "      <td>i can go from feeling so hopeless to so damned...</td>\n",
       "      <td>sadness</td>\n",
       "    </tr>\n",
       "    <tr>\n",
       "      <th>2</th>\n",
       "      <td>im grabbing a minute to post i feel greedy wrong</td>\n",
       "      <td>anger</td>\n",
       "    </tr>\n",
       "    <tr>\n",
       "      <th>3</th>\n",
       "      <td>i am ever feeling nostalgic about the fireplac...</td>\n",
       "      <td>love</td>\n",
       "    </tr>\n",
       "    <tr>\n",
       "      <th>4</th>\n",
       "      <td>i am feeling grouchy</td>\n",
       "      <td>anger</td>\n",
       "    </tr>\n",
       "  </tbody>\n",
       "</table>\n",
       "</div>"
      ],
      "text/plain": [
       "                                               Lines Emotions\n",
       "0                            i didnt feel humiliated  sadness\n",
       "1  i can go from feeling so hopeless to so damned...  sadness\n",
       "2   im grabbing a minute to post i feel greedy wrong    anger\n",
       "3  i am ever feeling nostalgic about the fireplac...     love\n",
       "4                               i am feeling grouchy    anger"
      ]
     },
     "execution_count": 3,
     "metadata": {},
     "output_type": "execute_result"
    }
   ],
   "source": [
    "train = pd.read_csv('train.txt', header=None, sep=';', names=['Lines','Emotions'], encoding='utf-8')\n",
    "train.head()"
   ]
  },
  {
   "cell_type": "code",
   "execution_count": 108,
   "id": "1ce1736d",
   "metadata": {},
   "outputs": [
    {
     "data": {
      "text/html": [
       "<div>\n",
       "<style scoped>\n",
       "    .dataframe tbody tr th:only-of-type {\n",
       "        vertical-align: middle;\n",
       "    }\n",
       "\n",
       "    .dataframe tbody tr th {\n",
       "        vertical-align: top;\n",
       "    }\n",
       "\n",
       "    .dataframe thead th {\n",
       "        text-align: right;\n",
       "    }\n",
       "</style>\n",
       "<table border=\"1\" class=\"dataframe\">\n",
       "  <thead>\n",
       "    <tr style=\"text-align: right;\">\n",
       "      <th></th>\n",
       "      <th>Lines</th>\n",
       "      <th>Emotions</th>\n",
       "    </tr>\n",
       "  </thead>\n",
       "  <tbody>\n",
       "    <tr>\n",
       "      <th>0</th>\n",
       "      <td>im feeling rather rotten so im not very ambiti...</td>\n",
       "      <td>sadness</td>\n",
       "    </tr>\n",
       "    <tr>\n",
       "      <th>1</th>\n",
       "      <td>im updating my blog because i feel shitty</td>\n",
       "      <td>sadness</td>\n",
       "    </tr>\n",
       "    <tr>\n",
       "      <th>2</th>\n",
       "      <td>i never make her separate from me because i do...</td>\n",
       "      <td>sadness</td>\n",
       "    </tr>\n",
       "    <tr>\n",
       "      <th>3</th>\n",
       "      <td>i left with my bouquet of red and yellow tulip...</td>\n",
       "      <td>joy</td>\n",
       "    </tr>\n",
       "    <tr>\n",
       "      <th>4</th>\n",
       "      <td>i was feeling a little vain when i did this one</td>\n",
       "      <td>sadness</td>\n",
       "    </tr>\n",
       "  </tbody>\n",
       "</table>\n",
       "</div>"
      ],
      "text/plain": [
       "                                               Lines Emotions\n",
       "0  im feeling rather rotten so im not very ambiti...  sadness\n",
       "1          im updating my blog because i feel shitty  sadness\n",
       "2  i never make her separate from me because i do...  sadness\n",
       "3  i left with my bouquet of red and yellow tulip...      joy\n",
       "4    i was feeling a little vain when i did this one  sadness"
      ]
     },
     "execution_count": 108,
     "metadata": {},
     "output_type": "execute_result"
    }
   ],
   "source": [
    "test = pd.read_csv('test.txt', header=None, sep =';', names=['Lines','Emotions'], encoding='utf-8')\n",
    "test.head()"
   ]
  },
  {
   "cell_type": "code",
   "execution_count": 109,
   "id": "9c9a06d0",
   "metadata": {},
   "outputs": [
    {
     "data": {
      "text/html": [
       "<div>\n",
       "<style scoped>\n",
       "    .dataframe tbody tr th:only-of-type {\n",
       "        vertical-align: middle;\n",
       "    }\n",
       "\n",
       "    .dataframe tbody tr th {\n",
       "        vertical-align: top;\n",
       "    }\n",
       "\n",
       "    .dataframe thead th {\n",
       "        text-align: right;\n",
       "    }\n",
       "</style>\n",
       "<table border=\"1\" class=\"dataframe\">\n",
       "  <thead>\n",
       "    <tr style=\"text-align: right;\">\n",
       "      <th></th>\n",
       "      <th>Lines</th>\n",
       "      <th>Emotions</th>\n",
       "    </tr>\n",
       "  </thead>\n",
       "  <tbody>\n",
       "    <tr>\n",
       "      <th>0</th>\n",
       "      <td>im feeling quite sad and sorry for myself but ...</td>\n",
       "      <td>sadness</td>\n",
       "    </tr>\n",
       "    <tr>\n",
       "      <th>1</th>\n",
       "      <td>i feel like i am still looking at a blank canv...</td>\n",
       "      <td>sadness</td>\n",
       "    </tr>\n",
       "    <tr>\n",
       "      <th>2</th>\n",
       "      <td>i feel like a faithful servant</td>\n",
       "      <td>love</td>\n",
       "    </tr>\n",
       "    <tr>\n",
       "      <th>3</th>\n",
       "      <td>i am just feeling cranky and blue</td>\n",
       "      <td>anger</td>\n",
       "    </tr>\n",
       "    <tr>\n",
       "      <th>4</th>\n",
       "      <td>i can have for a treat or if i am feeling festive</td>\n",
       "      <td>joy</td>\n",
       "    </tr>\n",
       "  </tbody>\n",
       "</table>\n",
       "</div>"
      ],
      "text/plain": [
       "                                               Lines Emotions\n",
       "0  im feeling quite sad and sorry for myself but ...  sadness\n",
       "1  i feel like i am still looking at a blank canv...  sadness\n",
       "2                     i feel like a faithful servant     love\n",
       "3                  i am just feeling cranky and blue    anger\n",
       "4  i can have for a treat or if i am feeling festive      joy"
      ]
     },
     "execution_count": 109,
     "metadata": {},
     "output_type": "execute_result"
    }
   ],
   "source": [
    "validation = pd.read_csv('val.txt', header=None, sep=';', names=['Lines','Emotions'], encoding='utf-8')\n",
    "validation.head()"
   ]
  },
  {
   "cell_type": "markdown",
   "id": "5525efff",
   "metadata": {},
   "source": [
    "## Expore Data"
   ]
  },
  {
   "cell_type": "code",
   "execution_count": 6,
   "id": "78946a4d",
   "metadata": {},
   "outputs": [
    {
     "data": {
      "text/plain": [
       "array(['sadness', 'anger', 'love', 'surprise', 'fear', 'joy'],\n",
       "      dtype=object)"
      ]
     },
     "execution_count": 6,
     "metadata": {},
     "output_type": "execute_result"
    }
   ],
   "source": [
    "train['Emotions'].unique()"
   ]
  },
  {
   "cell_type": "code",
   "execution_count": 110,
   "id": "1c1ac2b3",
   "metadata": {},
   "outputs": [
    {
     "data": {
      "text/plain": [
       "array(['sadness', 'joy', 'fear', 'anger', 'love', 'surprise'],\n",
       "      dtype=object)"
      ]
     },
     "execution_count": 110,
     "metadata": {},
     "output_type": "execute_result"
    }
   ],
   "source": [
    "test['Emotions'].unique()"
   ]
  },
  {
   "cell_type": "code",
   "execution_count": 111,
   "id": "997fb951",
   "metadata": {},
   "outputs": [
    {
     "data": {
      "text/plain": [
       "array(['sadness', 'love', 'anger', 'joy', 'fear', 'surprise'],\n",
       "      dtype=object)"
      ]
     },
     "execution_count": 111,
     "metadata": {},
     "output_type": "execute_result"
    }
   ],
   "source": [
    "validation['Emotions'].unique()"
   ]
  },
  {
   "cell_type": "code",
   "execution_count": 7,
   "id": "6bcca14e",
   "metadata": {},
   "outputs": [],
   "source": [
    "# adding a column with encoded emotions\n",
    "emotions_to_labels = {'anger': 0, 'love': 1, 'fear': 2, 'joy': 3, 'sadness': 4,'surprise': 5}\n",
    "labels_to_emotions = {j:i for i,j in emotions_to_labels.items()}"
   ]
  },
  {
   "cell_type": "code",
   "execution_count": 8,
   "id": "d86169f0",
   "metadata": {},
   "outputs": [
    {
     "data": {
      "text/plain": [
       "{0: 'anger', 1: 'love', 2: 'fear', 3: 'joy', 4: 'sadness', 5: 'surprise'}"
      ]
     },
     "execution_count": 8,
     "metadata": {},
     "output_type": "execute_result"
    }
   ],
   "source": [
    "labels_to_emotions"
   ]
  },
  {
   "cell_type": "code",
   "execution_count": 9,
   "id": "835703f6",
   "metadata": {},
   "outputs": [],
   "source": [
    "train['Labels'] = train['Emotions'].replace(emotions_to_labels)"
   ]
  },
  {
   "cell_type": "code",
   "execution_count": 10,
   "id": "c2ce037d",
   "metadata": {},
   "outputs": [],
   "source": [
    "test['Labels'] = test['Emotions'].replace(emotions_to_labels)\n",
    "validation['Labels'] = validation['Emotions'].replace(emotions_to_labels)"
   ]
  },
  {
   "cell_type": "code",
   "execution_count": 11,
   "id": "c04add96",
   "metadata": {},
   "outputs": [
    {
     "data": {
      "text/html": [
       "<div>\n",
       "<style scoped>\n",
       "    .dataframe tbody tr th:only-of-type {\n",
       "        vertical-align: middle;\n",
       "    }\n",
       "\n",
       "    .dataframe tbody tr th {\n",
       "        vertical-align: top;\n",
       "    }\n",
       "\n",
       "    .dataframe thead th {\n",
       "        text-align: right;\n",
       "    }\n",
       "</style>\n",
       "<table border=\"1\" class=\"dataframe\">\n",
       "  <thead>\n",
       "    <tr style=\"text-align: right;\">\n",
       "      <th></th>\n",
       "      <th>Lines</th>\n",
       "      <th>Emotions</th>\n",
       "      <th>Labels</th>\n",
       "    </tr>\n",
       "  </thead>\n",
       "  <tbody>\n",
       "    <tr>\n",
       "      <th>0</th>\n",
       "      <td>i didnt feel humiliated</td>\n",
       "      <td>sadness</td>\n",
       "      <td>4</td>\n",
       "    </tr>\n",
       "    <tr>\n",
       "      <th>1</th>\n",
       "      <td>i can go from feeling so hopeless to so damned...</td>\n",
       "      <td>sadness</td>\n",
       "      <td>4</td>\n",
       "    </tr>\n",
       "    <tr>\n",
       "      <th>2</th>\n",
       "      <td>im grabbing a minute to post i feel greedy wrong</td>\n",
       "      <td>anger</td>\n",
       "      <td>0</td>\n",
       "    </tr>\n",
       "    <tr>\n",
       "      <th>3</th>\n",
       "      <td>i am ever feeling nostalgic about the fireplac...</td>\n",
       "      <td>love</td>\n",
       "      <td>1</td>\n",
       "    </tr>\n",
       "    <tr>\n",
       "      <th>4</th>\n",
       "      <td>i am feeling grouchy</td>\n",
       "      <td>anger</td>\n",
       "      <td>0</td>\n",
       "    </tr>\n",
       "  </tbody>\n",
       "</table>\n",
       "</div>"
      ],
      "text/plain": [
       "                                               Lines Emotions  Labels\n",
       "0                            i didnt feel humiliated  sadness       4\n",
       "1  i can go from feeling so hopeless to so damned...  sadness       4\n",
       "2   im grabbing a minute to post i feel greedy wrong    anger       0\n",
       "3  i am ever feeling nostalgic about the fireplac...     love       1\n",
       "4                               i am feeling grouchy    anger       0"
      ]
     },
     "execution_count": 11,
     "metadata": {},
     "output_type": "execute_result"
    }
   ],
   "source": [
    "train.head()"
   ]
  },
  {
   "cell_type": "code",
   "execution_count": 12,
   "id": "1c22222d",
   "metadata": {},
   "outputs": [],
   "source": [
    "def visualize_labels_distribution(df, title='the'):\n",
    "  '''\n",
    "  Accepts a dataframe with 'Emotions' column and dataset title (e.g. 'train')\n",
    "  Creates bar chart with num of elements of each category\n",
    "  Returns nothing\n",
    "\n",
    "  '''\n",
    "  # create a pandas series with labels and their counts\n",
    "  num_labels = df['Emotions'].value_counts()\n",
    "\n",
    "  # num of unique categories\n",
    "  x_barchart = range(df['Emotions'].nunique())\n",
    "  # list of labels\n",
    "  x_barchart_labels = [str(emotions_to_labels[emotion]) +\\\n",
    "                       ' - ' + emotion for emotion in list(num_labels.index)]\n",
    "\n",
    "  # list of counts\n",
    "  y_barchart = list(num_labels.values)\n",
    "\n",
    "  # creating bar chart\n",
    "  plt.figure(figsize = (5, 4))\n",
    "  plt.bar(x_barchart, y_barchart, color='#707bfb')\n",
    "\n",
    "  # adding num of elements for each category on plot as text\n",
    "  for index, data in enumerate(y_barchart):\n",
    "    plt.text(x = index, \n",
    "            y = data+max(y_barchart)/100, \n",
    "            s = '{}'.format(data), \n",
    "            fontdict = dict(fontsize=10), \n",
    "            ha = 'center',)\n",
    "  \n",
    "  plt.xticks(x_barchart, x_barchart_labels, rotation=40)\n",
    "  plt.title('Num of elements of each category for {} dataset'.format(title))\n",
    "  plt.tight_layout()\n",
    "\n",
    "  print('There are {} records in the dataset.\\n'.format(len(df.index)))\n",
    "\n",
    "  plt.show()"
   ]
  },
  {
   "cell_type": "code",
   "execution_count": 13,
   "id": "78b9af97",
   "metadata": {},
   "outputs": [
    {
     "name": "stdout",
     "output_type": "stream",
     "text": [
      "There are 16000 records in the dataset.\n",
      "\n"
     ]
    },
    {
     "data": {
      "image/png": "[encoded data removed]",
      "text/plain": [
       "<Figure size 360x288 with 1 Axes>"
      ]
     },
     "metadata": {
      "needs_background": "light"
     },
     "output_type": "display_data"
    },
    {
     "name": "stdout",
     "output_type": "stream",
     "text": [
      "There are 2000 records in the dataset.\n",
      "\n"
     ]
    },
    {
     "data": {
      "image/png": "[encoded data removed]",
      "text/plain": [
       "<Figure size 360x288 with 1 Axes>"
      ]
     },
     "metadata": {
      "needs_background": "light"
     },
     "output_type": "display_data"
    },
    {
     "name": "stdout",
     "output_type": "stream",
     "text": [
      "There are 2000 records in the dataset.\n",
      "\n"
     ]
    },
    {
     "data": {
      "image/png": "[encoded data removed]",
      "text/plain": [
       "<Figure size 360x288 with 1 Axes>"
      ]
     },
     "metadata": {
      "needs_background": "light"
     },
     "output_type": "display_data"
    }
   ],
   "source": [
    "visualize_labels_distribution(train, 'train')\n",
    "visualize_labels_distribution(test, 'test')\n",
    "visualize_labels_distribution(validation, 'val')"
   ]
  },
  {
   "cell_type": "markdown",
   "id": "affa5e40",
   "metadata": {},
   "source": [
    "## Text Preprocessing"
   ]
  },
  {
   "cell_type": "code",
   "execution_count": 14,
   "id": "39ebc194",
   "metadata": {},
   "outputs": [
    {
     "name": "stderr",
     "output_type": "stream",
     "text": [
      "[nltk_data] Downloading package punkt to /home/abid/nltk_data...\n",
      "[nltk_data]   Package punkt is already up-to-date!\n",
      "[nltk_data] Downloading package stopwords to /home/abid/nltk_data...\n",
      "[nltk_data]   Package stopwords is already up-to-date!\n"
     ]
    }
   ],
   "source": [
    "import nltk \n",
    "nltk.download('punkt')\n",
    "nltk.download('stopwords')\n",
    "from nltk.corpus import stopwords\n",
    "\n",
    "# downloading a set of stop-words\n",
    "STOPWORDS = set(stopwords.words('english'))\n",
    "\n",
    "# tokenizer\n",
    "from nltk.tokenize import word_tokenize"
   ]
  },
  {
   "cell_type": "code",
   "execution_count": 15,
   "id": "2588dd0b",
   "metadata": {},
   "outputs": [],
   "source": [
    "def text_preprocess(text, stop_words=False):\n",
    "  '''\n",
    "  Accepts text (a single string) and\n",
    "  a parameters of preprocessing\n",
    "  Returns preprocessed text\n",
    "\n",
    "  '''\n",
    "  # clean text from non-words\n",
    "  text = re.sub(r'\\W+', ' ', text).lower()\n",
    "\n",
    "  # tokenize the text\n",
    "  tokens = word_tokenize(text)\n",
    "\n",
    "  if stop_words:\n",
    "    # delete stop_words\n",
    "    tokens = [token for token in tokens if token not in STOPWORDS]\n",
    "\n",
    "  return tokens"
   ]
  },
  {
   "cell_type": "code",
   "execution_count": 16,
   "id": "18f00186",
   "metadata": {},
   "outputs": [
    {
     "name": "stdout",
     "output_type": "stream",
     "text": [
      "Before: \n",
      "                                               Lines Emotions  Labels\n",
      "0                            i didnt feel humiliated  sadness       4\n",
      "1  i can go from feeling so hopeless to so damned...  sadness       4\n",
      "2   im grabbing a minute to post i feel greedy wrong    anger       0\n",
      "3  i am ever feeling nostalgic about the fireplac...     love       1\n",
      "4                               i am feeling grouchy    anger       0\n",
      "\n",
      "After:\n",
      "(['didnt', 'feel', 'humiliated'], 4)\n",
      "(['go', 'feeling', 'hopeless', 'damned', 'hopeful', 'around', 'someone', 'cares', 'awake'], 4)\n",
      "(['im', 'grabbing', 'minute', 'post', 'feel', 'greedy', 'wrong'], 0)\n",
      "(['ever', 'feeling', 'nostalgic', 'fireplace', 'know', 'still', 'property'], 1)\n",
      "(['feeling', 'grouchy'], 0)\n"
     ]
    }
   ],
   "source": [
    "print('Before: ')\n",
    "print(train.head())\n",
    "\n",
    "x_train = [text_preprocess(t, stop_words=True) for t in train['Lines']]\n",
    "y_train = train['Labels'].values\n",
    "\n",
    "print('\\nAfter:')\n",
    "for line_and_label in list(zip(x_train[:5], y_train[:5])):\n",
    "  print(line_and_label)"
   ]
  },
  {
   "cell_type": "code",
   "execution_count": 17,
   "id": "4edcb2f5",
   "metadata": {},
   "outputs": [],
   "source": [
    "x_test = [text_preprocess(t, stop_words=True) for t in test['Lines']]\n",
    "y_test = test['Labels'].values\n",
    "\n",
    "x_validation = [text_preprocess(t, stop_words=True) for t in validation['Lines']]\n",
    "y_validation = validation['Labels'].values"
   ]
  },
  {
   "cell_type": "markdown",
   "id": "35b75e78",
   "metadata": {},
   "source": [
    "## Word Embeddings"
   ]
  },
  {
   "cell_type": "code",
   "execution_count": 18,
   "id": "1ff512c9",
   "metadata": {},
   "outputs": [],
   "source": [
    "# load pre-trained model\n",
    "import gensim.downloader as api\n",
    "model_wiki = api.load('fasttext-wiki-news-subwords-300')"
   ]
  },
  {
   "cell_type": "code",
   "execution_count": 19,
   "id": "499e3c79",
   "metadata": {},
   "outputs": [],
   "source": [
    "from gensim.models import Word2Vec\n",
    "\n",
    "# train word2vec model on the corpus\n",
    "model_w2v = Word2Vec(x_train + x_test + x_validation,   # data for model to train on\n",
    "                 vector_size = 300,                            # embedding vector size\n",
    "                 min_count = 2).wv  "
   ]
  },
  {
   "cell_type": "markdown",
   "id": "23230233",
   "metadata": {},
   "source": [
    "## Converting sentences into vectors"
   ]
  },
  {
   "cell_type": "code",
   "execution_count": 20,
   "id": "43503e5c",
   "metadata": {},
   "outputs": [],
   "source": [
    "from tensorflow.keras.preprocessing.text import Tokenizer"
   ]
  },
  {
   "cell_type": "code",
   "execution_count": 21,
   "id": "8967f4cc",
   "metadata": {},
   "outputs": [],
   "source": [
    "DICT_SIZE = 15000\n",
    "\n",
    "# creating a dictionary with most used words\n",
    "# where num of words = DICT_SIZE\n",
    "tokenizer = Tokenizer(num_words=DICT_SIZE)\n",
    "total = x_train + x_test + x_validation\n",
    "tokenizer.fit_on_texts(total)"
   ]
  },
  {
   "cell_type": "code",
   "execution_count": 23,
   "id": "6d9609e0",
   "metadata": {},
   "outputs": [
    {
     "data": {
      "text/plain": [
       "[('feel', 1),\n",
       " ('feeling', 2),\n",
       " ('like', 3),\n",
       " ('im', 4),\n",
       " ('really', 5),\n",
       " ('know', 6),\n",
       " ('time', 7),\n",
       " ('little', 8),\n",
       " ('get', 9),\n",
       " ('people', 10)]"
      ]
     },
     "execution_count": 23,
     "metadata": {},
     "output_type": "execute_result"
    }
   ],
   "source": [
    "# words and their indexes\n",
    "list(tokenizer.word_index.items())[:10]"
   ]
  },
  {
   "cell_type": "code",
   "execution_count": 24,
   "id": "beadd827",
   "metadata": {},
   "outputs": [
    {
     "data": {
      "text/plain": [
       "16945"
      ]
     },
     "execution_count": 24,
     "metadata": {},
     "output_type": "execute_result"
    }
   ],
   "source": [
    "# number of unique words in the corpus\n",
    "len(tokenizer.word_index)"
   ]
  },
  {
   "cell_type": "code",
   "execution_count": 25,
   "id": "4c4080d0",
   "metadata": {},
   "outputs": [],
   "source": [
    "# find max length of sentences across all parts of the dataset\n",
    "x_train_max_len = max([len(i) for i in x_train])\n",
    "x_test_max_len = max([len(i) for i in x_test])\n",
    "x_validation_max_len = max([len(i) for i in x_validation])"
   ]
  },
  {
   "cell_type": "code",
   "execution_count": 26,
   "id": "bfc16b97",
   "metadata": {},
   "outputs": [],
   "source": [
    "MAX_LEN = max(x_train_max_len, x_test_max_len, x_validation_max_len)"
   ]
  },
  {
   "cell_type": "code",
   "execution_count": 27,
   "id": "d470e271",
   "metadata": {},
   "outputs": [
    {
     "data": {
      "text/plain": [
       "35"
      ]
     },
     "execution_count": 27,
     "metadata": {},
     "output_type": "execute_result"
    }
   ],
   "source": [
    "\n",
    "\n",
    "# max length across all sentences\n",
    "MAX_LEN\n",
    "\n"
   ]
  },
  {
   "cell_type": "code",
   "execution_count": 28,
   "id": "4e0f7466",
   "metadata": {},
   "outputs": [],
   "source": [
    "from tensorflow.keras.preprocessing.sequence import pad_sequences"
   ]
  },
  {
   "cell_type": "code",
   "execution_count": 29,
   "id": "1fdd7b4b",
   "metadata": {},
   "outputs": [],
   "source": [
    "# replace words with their indexes, \n",
    "# change size of vectors to MAX_LEN and pad indexes \n",
    "X_train = tokenizer.texts_to_sequences(x_train)\n",
    "X_train_pad = pad_sequences(X_train, maxlen=MAX_LEN)\n",
    "\n",
    "X_test = tokenizer.texts_to_sequences(x_test)\n",
    "X_test_pad = pad_sequences(X_test, maxlen=MAX_LEN)\n",
    "\n",
    "X_val = tokenizer.texts_to_sequences(x_validation)\n",
    "X_val_pad = pad_sequences(X_val, maxlen=MAX_LEN)"
   ]
  },
  {
   "cell_type": "code",
   "execution_count": 30,
   "id": "e73a0053",
   "metadata": {},
   "outputs": [
    {
     "data": {
      "text/plain": [
       "[50, 1, 510]"
      ]
     },
     "execution_count": 30,
     "metadata": {},
     "output_type": "execute_result"
    }
   ],
   "source": [
    "# words are replaced by their indexes\n",
    "X_train[0]\n"
   ]
  },
  {
   "cell_type": "code",
   "execution_count": 31,
   "id": "aea53ca7",
   "metadata": {},
   "outputs": [
    {
     "data": {
      "text/plain": [
       "array([  0,   0,   0,   0,   0,   0,   0,   0,   0,   0,   0,   0,   0,\n",
       "         0,   0,   0,   0,   0,   0,   0,   0,   0,   0,   0,   0,   0,\n",
       "         0,   0,   0,   0,   0,   0,  50,   1, 510], dtype=int32)"
      ]
     },
     "execution_count": 31,
     "metadata": {},
     "output_type": "execute_result"
    }
   ],
   "source": [
    "# sentence after padding\n",
    "X_train_pad[0]"
   ]
  },
  {
   "cell_type": "markdown",
   "id": "b6dbad38",
   "metadata": {},
   "source": [
    "## Embedding matrix"
   ]
  },
  {
   "cell_type": "code",
   "execution_count": 32,
   "id": "ccc92849",
   "metadata": {},
   "outputs": [],
   "source": [
    "def create_weight_matrix(model, second_model=False):\n",
    "  '''\n",
    "  Accepts word embedding model\n",
    "  and the second model, if provided\n",
    "  Returns weight matrix of size m*n, where\n",
    "  m - size of the dictionary\n",
    "  n - size of the word embedding vector\n",
    "\n",
    "  '''\n",
    "  vector_size = model.get_vector('like').shape[0]\n",
    "  w_matrix = np.zeros((DICT_SIZE, vector_size))\n",
    "  skipped_words = []\n",
    "\n",
    "  for word, index in tokenizer.word_index.items():\n",
    "    if index < DICT_SIZE:\n",
    "      if word in model.key_to_index: \n",
    "        w_matrix[index] = model.get_vector(word)\n",
    "      else:\n",
    "        if second_model:\n",
    "          if word in second_model.key_to_index:\n",
    "            w_matrix[index] = second_model.get_vector(word)\n",
    "          else:\n",
    "            skipped_words.append(word)\n",
    "        else:\n",
    "          skipped_words.append(word)\n",
    " \n",
    "  print(f'{len(skipped_words)} words were skipped. Some of them:')\n",
    "  print(skipped_words[:50])\n",
    "  return w_matrix\n"
   ]
  },
  {
   "cell_type": "code",
   "execution_count": 33,
   "id": "f0a977bb",
   "metadata": {},
   "outputs": [
    {
     "name": "stdout",
     "output_type": "stream",
     "text": [
      "967 words were skipped. Some of them:\n",
      "['jacynthe', 'rupaul', 'kayle', 'gerling', 'mxm', 'dannika', 'hyperchondria', 'manitz', 'educationg', 'gosman', 'montauk', 'bummin', 'wheeeeee', 'underwears', 'olivias', 'bandhu', 'uplifter', 'suicidalness', 'dykey', 'provokingbeauty', 'bodypump', 'honkerblonked', 'clermont', 'instructables', 'janne', 'suominen', 'kamiki', 'nozomi', 'nonchan', 'beaubronz', 'docrat', 'allthingsbucks', 'irresponcible', 'scruncher', 'utf', 'isprivate', 'ismobile', 'mobileclass', 'isprivateblog', 'languagedirection', 'feedlinks', 'lorena', 'handss', 'nervs', 'mommyhood', 'nowwwwww', 'whitleys', 'forelorn', 'baachan', 'covingtons']\n"
     ]
    }
   ],
   "source": [
    "weight_matrix = create_weight_matrix(model_wiki, model_w2v)"
   ]
  },
  {
   "cell_type": "code",
   "execution_count": 34,
   "id": "f71b9bfe",
   "metadata": {},
   "outputs": [
    {
     "data": {
      "text/plain": [
       "(15000, 300)"
      ]
     },
     "execution_count": 34,
     "metadata": {},
     "output_type": "execute_result"
    }
   ],
   "source": [
    "weight_matrix.shape"
   ]
  },
  {
   "cell_type": "markdown",
   "id": "9eeef378",
   "metadata": {},
   "source": [
    "## DL Model"
   ]
  },
  {
   "cell_type": "code",
   "execution_count": 35,
   "id": "c7879544",
   "metadata": {},
   "outputs": [],
   "source": [
    "# import models, layers, optimizers from tensorflow\n",
    "from tensorflow.keras.models import Sequential\n",
    "from tensorflow.keras.layers import Embedding, LSTM, Bidirectional, Dense, Dropout\n",
    "from tensorflow.keras.optimizers import Adam\n",
    "\n"
   ]
  },
  {
   "cell_type": "code",
   "execution_count": 36,
   "id": "e987c0c7",
   "metadata": {},
   "outputs": [],
   "source": [
    "# import and initialize early stopping\n",
    "from tensorflow.keras.callbacks import EarlyStopping\n",
    "stop = EarlyStopping(monitor='val_loss', mode='min', verbose=1, patience=3)"
   ]
  },
  {
   "cell_type": "code",
   "execution_count": 37,
   "id": "cbb2b1f0",
   "metadata": {},
   "outputs": [
    {
     "name": "stderr",
     "output_type": "stream",
     "text": [
      "2022-08-18 17:34:55.291530: I tensorflow/core/platform/cpu_feature_guard.cc:151] This TensorFlow binary is optimized with oneAPI Deep Neural Network Library (oneDNN) to use the following CPU instructions in performance-critical operations:  SSE4.1 SSE4.2 AVX AVX2 FMA\n",
      "To enable them in other operations, rebuild TensorFlow with the appropriate compiler flags.\n",
      "2022-08-18 17:34:55.291764: I tensorflow/core/common_runtime/process_util.cc:146] Creating new thread pool with default inter op setting: 2. Tune using inter_op_parallelism_threads for best performance.\n"
     ]
    }
   ],
   "source": [
    "\n",
    "\n",
    "# initialize sequential model\n",
    "model = Sequential()\n",
    "model.add(Embedding(input_dim = DICT_SIZE, # the whole vocabulary size\n",
    "                    output_dim = weight_matrix.shape[1], # vector space dimension\n",
    "                    input_length = X_train_pad.shape[1], # max_len of text sequence\n",
    "                    weights=[weight_matrix], # assign the embedding weight with embedding marix\n",
    "                    trainable=False)) # set the weight to be not trainable (static)\n",
    "\n"
   ]
  },
  {
   "cell_type": "code",
   "execution_count": 38,
   "id": "3ff520ec",
   "metadata": {},
   "outputs": [],
   "source": [
    "model.add(Bidirectional(LSTM(128, return_sequences=True))) \n",
    "model.add(Dropout(0.2))\n",
    "model.add(Bidirectional(LSTM(256, return_sequences=True)))\n",
    "model.add(Dropout(0.2))\n",
    "model.add(Bidirectional(LSTM(128, return_sequences=False)))\n",
    "model.add(Dense(6, activation = 'softmax'))\n",
    "model.compile(loss='sparse_categorical_crossentropy', optimizer='adam', metrics='accuracy')"
   ]
  },
  {
   "cell_type": "code",
   "execution_count": 39,
   "id": "73784ee5",
   "metadata": {},
   "outputs": [
    {
     "name": "stdout",
     "output_type": "stream",
     "text": [
      "Epoch 1/20\n",
      "2000/2000 [==============================] - 780s 385ms/step - loss: 1.0096 - accuracy: 0.6319 - val_loss: 0.4855 - val_accuracy: 0.8320\n",
      "Epoch 2/20\n",
      "2000/2000 [==============================] - 652s 326ms/step - loss: 0.3374 - accuracy: 0.8789 - val_loss: 0.2079 - val_accuracy: 0.9185\n",
      "Epoch 3/20\n",
      "2000/2000 [==============================] - 646s 323ms/step - loss: 0.1861 - accuracy: 0.9252 - val_loss: 0.1463 - val_accuracy: 0.9305\n",
      "Epoch 4/20\n",
      "2000/2000 [==============================] - 647s 323ms/step - loss: 0.1502 - accuracy: 0.9322 - val_loss: 0.1657 - val_accuracy: 0.9235\n",
      "Epoch 5/20\n",
      "2000/2000 [==============================] - 646s 323ms/step - loss: 0.1292 - accuracy: 0.9367 - val_loss: 0.1356 - val_accuracy: 0.9390\n",
      "Epoch 6/20\n",
      "2000/2000 [==============================] - 636s 318ms/step - loss: 0.1182 - accuracy: 0.9406 - val_loss: 0.1245 - val_accuracy: 0.9405\n",
      "Epoch 7/20\n",
      "2000/2000 [==============================] - 638s 319ms/step - loss: 0.1092 - accuracy: 0.9446 - val_loss: 0.1210 - val_accuracy: 0.9355\n",
      "Epoch 8/20\n",
      "2000/2000 [==============================] - 635s 317ms/step - loss: 0.1026 - accuracy: 0.9470 - val_loss: 0.1119 - val_accuracy: 0.9400\n",
      "Epoch 9/20\n",
      "2000/2000 [==============================] - 641s 321ms/step - loss: 0.0997 - accuracy: 0.9479 - val_loss: 0.1183 - val_accuracy: 0.9385\n",
      "Epoch 10/20\n",
      "2000/2000 [==============================] - 578s 289ms/step - loss: 0.0960 - accuracy: 0.9487 - val_loss: 0.1120 - val_accuracy: 0.9380\n",
      "Epoch 11/20\n",
      "2000/2000 [==============================] - 583s 291ms/step - loss: 0.0892 - accuracy: 0.9528 - val_loss: 0.1294 - val_accuracy: 0.9390\n",
      "Epoch 11: early stopping\n"
     ]
    }
   ],
   "source": [
    "history = model.fit(X_train_pad, y_train, \n",
    "                    validation_data = (X_val_pad, y_validation),\n",
    "                    batch_size = 8,\n",
    "                    epochs = 20, \n",
    "                    callbacks = stop)"
   ]
  },
  {
   "cell_type": "markdown",
   "id": "7abb0403",
   "metadata": {},
   "source": [
    "## Evaluate Model"
   ]
  },
  {
   "cell_type": "code",
   "execution_count": 40,
   "id": "9270d043",
   "metadata": {},
   "outputs": [],
   "source": [
    "def plot_history(history):\n",
    "    '''\n",
    "    Plots training and validation accuracy and loss\n",
    "    Accepts a single param - history, where\n",
    "    history - keras.callbacks.History object\n",
    "    Returns nothing\n",
    "    \n",
    "    '''\n",
    "    loss = history.history['loss']\n",
    "    accuracy = history.history['accuracy']\n",
    "    val_loss = history.history['val_loss']\n",
    "    val_accuracy = history.history['val_accuracy']\n",
    "    x = range(1, len(loss) + 1)\n",
    "\n",
    "    plt.figure(figsize=(12, 5))\n",
    "    plt.subplot(1, 2, 1)\n",
    "    plt.plot(x, accuracy, label='Training acc', color='#707bfb')\n",
    "    plt.plot(x, val_accuracy, label='Validation acc', color='#fbcbff')\n",
    "    plt.title('Training and validation accuracy')\n",
    "    plt.grid(True)\n",
    "    plt.legend()\n",
    "    \n",
    "    plt.subplot(1, 2, 2)\n",
    "    plt.plot(x, loss, label='Training loss', color='#707bfb')\n",
    "    plt.plot(x, val_loss, label='Validation loss', color='#fbcbff')\n",
    "    plt.title('Training and validation loss')\n",
    "    plt.grid(True)\n",
    "    plt.legend()"
   ]
  },
  {
   "cell_type": "code",
   "execution_count": 41,
   "id": "442a007b",
   "metadata": {},
   "outputs": [
    {
     "data": {
      "image/png": "[encoded data removed]",
      "text/plain": [
       "<Figure size 864x360 with 2 Axes>"
      ]
     },
     "metadata": {
      "needs_background": "light"
     },
     "output_type": "display_data"
    }
   ],
   "source": [
    "plot_history(history)"
   ]
  },
  {
   "cell_type": "code",
   "execution_count": 42,
   "id": "64d8ac98",
   "metadata": {},
   "outputs": [
    {
     "name": "stdout",
     "output_type": "stream",
     "text": [
      "63/63 [==============================] - 10s 106ms/step - loss: 0.1499 - accuracy: 0.9285\n"
     ]
    },
    {
     "data": {
      "text/plain": [
       "[0.14989763498306274, 0.9284999966621399]"
      ]
     },
     "execution_count": 42,
     "metadata": {},
     "output_type": "execute_result"
    }
   ],
   "source": [
    "model.evaluate(X_test_pad, y_test) "
   ]
  },
  {
   "cell_type": "code",
   "execution_count": 43,
   "id": "ef334742",
   "metadata": {},
   "outputs": [],
   "source": [
    "y_pred = np.argmax(model.predict(X_test_pad), axis=1)"
   ]
  },
  {
   "cell_type": "code",
   "execution_count": 45,
   "id": "f6b39cce",
   "metadata": {},
   "outputs": [
    {
     "name": "stdout",
     "output_type": "stream",
     "text": [
      "              precision    recall  f1-score   support\n",
      "\n",
      "           0       0.90      0.96      0.93       275\n",
      "           1       0.97      0.69      0.80       159\n",
      "           2       0.94      0.85      0.89       224\n",
      "           3       0.92      0.98      0.95       695\n",
      "           4       0.97      0.97      0.97       581\n",
      "           5       0.70      0.76      0.73        66\n",
      "\n",
      "    accuracy                           0.93      2000\n",
      "   macro avg       0.90      0.87      0.88      2000\n",
      "weighted avg       0.93      0.93      0.93      2000\n",
      "\n"
     ]
    }
   ],
   "source": [
    "from sklearn import metrics\n",
    "print(metrics.classification_report(y_test, y_pred))"
   ]
  },
  {
   "cell_type": "code",
   "execution_count": 46,
   "id": "a11fe630",
   "metadata": {},
   "outputs": [],
   "source": [
    "# setting a custom colormap\n",
    "from matplotlib.colors import LinearSegmentedColormap\n",
    "colors = ['#ffffff', '#fbcbff', '#707bfb']\n",
    "cmap = LinearSegmentedColormap.from_list('mycmap', colors)\n",
    "\n"
   ]
  },
  {
   "cell_type": "code",
   "execution_count": 47,
   "id": "8fe6b2f8",
   "metadata": {},
   "outputs": [],
   "source": [
    "def plot_confusion_matrix(matrix, fmt=''):\n",
    "  '''\n",
    "  Accepts a confusion matrix and a format param\n",
    "  Plots the matrix as a heatmap\n",
    "  Returns nothing\n",
    "\n",
    "  '''\n",
    "  plt.figure(figsize=(6, 5))\n",
    "  sns.heatmap(matrix, annot=True, \n",
    "              cmap=cmap, \n",
    "              fmt=fmt, \n",
    "              xticklabels=emotions_to_labels.keys(), \n",
    "              yticklabels=emotions_to_labels.keys())\n",
    "  plt.ylabel('True labels')\n",
    "  plt.xlabel('Predicted labels')\n",
    "  plt.show()"
   ]
  },
  {
   "cell_type": "code",
   "execution_count": 48,
   "id": "2522a0c1",
   "metadata": {},
   "outputs": [
    {
     "data": {
      "image/png": "[encoded data removed]",
      "text/plain": [
       "<Figure size 432x360 with 2 Axes>"
      ]
     },
     "metadata": {
      "needs_background": "light"
     },
     "output_type": "display_data"
    }
   ],
   "source": [
    "matrix = metrics.confusion_matrix(y_test, y_pred)\n",
    "plot_confusion_matrix(matrix)\n",
    "\n"
   ]
  },
  {
   "cell_type": "code",
   "execution_count": 49,
   "id": "05009b62",
   "metadata": {},
   "outputs": [
    {
     "data": {
      "image/png": "[encoded data removed]",
      "text/plain": [
       "<Figure size 432x360 with 2 Axes>"
      ]
     },
     "metadata": {
      "needs_background": "light"
     },
     "output_type": "display_data"
    }
   ],
   "source": [
    "# create new confusion matrix\n",
    "# where values are normed by row\n",
    "matrix_new = np.zeros(matrix.shape)\n",
    "\n",
    "for row in range(len(matrix)):\n",
    "  sum = np.sum(matrix[row])\n",
    "  for element in range(len(matrix[row])):\n",
    "    matrix_new[row][element] = matrix[row][element] / sum\n",
    "\n",
    "plot_confusion_matrix(matrix_new, fmt='.2')"
   ]
  },
  {
   "cell_type": "markdown",
   "id": "4f7fa4da",
   "metadata": {},
   "source": [
    "## Test Model on Custom Data"
   ]
  },
  {
   "cell_type": "code",
   "execution_count": 50,
   "id": "47a4c2de",
   "metadata": {},
   "outputs": [],
   "source": [
    "def predict(texts):\n",
    "  '''\n",
    "  Accepts array if texts (strings)\n",
    "  Prints sentence and the corresponding label (emotion)\n",
    "  Returns nothing\n",
    "  \n",
    "  '''\n",
    "  texts_prepr = [text_preprocess(t) for t in texts]\n",
    "  sequences = tokenizer.texts_to_sequences(texts_prepr)\n",
    "  pad = pad_sequences(sequences, maxlen=MAX_LEN)\n",
    "\n",
    "  predictions = model.predict(pad)\n",
    "  labels = np.argmax(predictions, axis=1)\n",
    "  \n",
    "  for i, lbl in enumerate(labels):\n",
    "    print(f'\\'{texts[i]}\\' --> {labels_to_emotions[lbl]}')\n",
    "\n"
   ]
  },
  {
   "cell_type": "code",
   "execution_count": 51,
   "id": "1c4aac0b",
   "metadata": {},
   "outputs": [
    {
     "name": "stdout",
     "output_type": "stream",
     "text": [
      "'I am so happy' --> joy\n",
      "'The man felt lonely' --> sadness\n",
      "'The guests felt satisfied' --> joy\n"
     ]
    }
   ],
   "source": [
    "test_texts = ['I am so happy', 'The man felt lonely', 'The guests felt satisfied']\n",
    "\n",
    "predict(test_texts)"
   ]
  },
  {
   "cell_type": "markdown",
   "id": "2309ac42",
   "metadata": {},
   "source": [
    "## Saving the Model"
   ]
  },
  {
   "cell_type": "code",
   "execution_count": 112,
   "id": "aaf71fcd",
   "metadata": {},
   "outputs": [],
   "source": [
    "model.save('sentiment_analysis.h5')\n"
   ]
  }
 ],
 "metadata": {
  "kernelspec": {
   "display_name": "Python 3 (ipykernel)",
   "language": "python",
   "name": "python3"
  },
  "language_info": {
   "codemirror_mode": {
    "name": "ipython",
    "version": 3
   },
   "file_extension": ".py",
   "mimetype": "text/x-python",
   "name": "python",
   "nbconvert_exporter": "python",
   "pygments_lexer": "ipython3",
   "version": "3.9.12"
  }
 },
 "nbformat": 4,
 "nbformat_minor": 5
}
